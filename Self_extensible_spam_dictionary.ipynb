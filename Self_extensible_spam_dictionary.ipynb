{
  "nbformat": 4,
  "nbformat_minor": 0,
  "metadata": {
    "colab": {
      "name": "Self-extensible-spam-dictionary.ipynb",
      "provenance": [],
      "collapsed_sections": [],
      "authorship_tag": "ABX9TyODBNEGtH3GIIlPRJfA8G1u",
      "include_colab_link": true
    },
    "kernelspec": {
      "name": "python3",
      "display_name": "Python 3"
    }
  },
  "cells": [
    {
      "cell_type": "markdown",
      "metadata": {
        "id": "view-in-github",
        "colab_type": "text"
      },
      "source": [
        "<a href=\"https://colab.research.google.com/github/nitrohub/Artificial-Intelligence/blob/master/Self_extensible_spam_dictionary.ipynb\" target=\"_parent\"><img src=\"https://colab.research.google.com/assets/colab-badge.svg\" alt=\"Open In Colab\"/></a>"
      ]
    },
    {
      "cell_type": "code",
      "metadata": {
        "id": "zkoNbZ3-b3KW",
        "colab_type": "code",
        "outputId": "d46299e2-83f3-4d18-d452-1724a6a973a8",
        "colab": {
          "base_uri": "https://localhost:8080/",
          "height": 102
        }
      },
      "source": [
        "import nltk\n",
        "nltk.download('punkt')\n",
        "nltk.download('stopwords')\n",
        "from gensim.models import Word2Vec\n",
        "from nltk.corpus import stopwords\n",
        "import pandas as pd\n",
        "import re\n",
        "\n",
        "!pip install spatial\n",
        "import spatial\n",
        "from scipy.spatial import distance"
      ],
      "execution_count": 28,
      "outputs": [
        {
          "output_type": "stream",
          "text": [
            "[nltk_data] Downloading package punkt to /root/nltk_data...\n",
            "[nltk_data]   Package punkt is already up-to-date!\n",
            "[nltk_data] Downloading package stopwords to /root/nltk_data...\n",
            "[nltk_data]   Package stopwords is already up-to-date!\n",
            "Requirement already satisfied: spatial in /usr/local/lib/python3.6/dist-packages (0.2.0)\n"
          ],
          "name": "stdout"
        }
      ]
    },
    {
      "cell_type": "code",
      "metadata": {
        "id": "AY9sPcaqdi64",
        "colab_type": "code",
        "outputId": "5fbd83e0-f676-4119-ed55-8fd5854bcbfd",
        "colab": {
          "resources": {
            "http://localhost:8080/nbextensions/google.colab/files.js": {
              "data": "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",
              "ok": true,
              "headers": [
                [
                  "content-type",
                  "application/javascript"
                ]
              ],
              "status": 200,
              "status_text": ""
            }
          },
          "base_uri": "https://localhost:8080/",
          "height": 74
        }
      },
      "source": [
        "from google.colab import files\n",
        "uploaded = files.upload()"
      ],
      "execution_count": 7,
      "outputs": [
        {
          "output_type": "display_data",
          "data": {
            "text/html": [
              "\n",
              "     <input type=\"file\" id=\"files-ccc31802-ccc7-4e19-b94c-8e9cbdeca18e\" name=\"files[]\" multiple disabled />\n",
              "     <output id=\"result-ccc31802-ccc7-4e19-b94c-8e9cbdeca18e\">\n",
              "      Upload widget is only available when the cell has been executed in the\n",
              "      current browser session. Please rerun this cell to enable.\n",
              "      </output>\n",
              "      <script src=\"/nbextensions/google.colab/files.js\"></script> "
            ],
            "text/plain": [
              "<IPython.core.display.HTML object>"
            ]
          },
          "metadata": {
            "tags": []
          }
        },
        {
          "output_type": "stream",
          "text": [
            "Saving Seed.txt to Seed.txt\n"
          ],
          "name": "stdout"
        }
      ]
    },
    {
      "cell_type": "code",
      "metadata": {
        "id": "EXQCR9seeoLC",
        "colab_type": "code",
        "outputId": "cd9389c4-af58-485c-b6bb-9d49b87f0290",
        "colab": {
          "base_uri": "https://localhost:8080/",
          "height": 54
        }
      },
      "source": [
        "file_name = \"Seed.txt\"\n",
        "uploaded[file_name].decode(\"utf-8\")"
      ],
      "execution_count": 8,
      "outputs": [
        {
          "output_type": "execute_result",
          "data": {
            "text/plain": [
              "'amazing\\r\\nvery\\r\\nproficient\\r\\ntotally delicious\\r\\nfree\\r\\nexcellent!!\\r\\ngold\\r\\ndefinitely\\r\\nsatisfied\\r\\nking\\r\\nbigger\\r\\nwonderful\\r\\nthumbs up! \\r\\nbest\\r\\nimpressed\\r\\nunderstatement\\r\\nperfect\\r\\nultimate\\r\\nhuge\\r\\nelegant\\r\\n100 percent\\r\\nhigh tech\\r\\nprofessional\\r\\npamper\\r\\nworth\\r\\nregret\\r\\ncreepy\\r\\nfilthy\\r\\nbeauti\\r\\npolished\\r\\nTing\\r\\ngreat\\r\\nluxurious\\r\\nparadise\\r\\nperfect!\\r\\nshocked\\r\\nwas...\\r\\ngold!\\r\\nwont believe\\r\\nwhen t\\r\\ntoo\\r\\nextremely\\r\\ncam\\r\\nmiss\\r\\n10/10!\\r\\npleasantly\\r\\nequipped\\r\\nworking\\r\\nThanksgiving\\r\\ndamn\\r\\npraise\\r\\nfaint\\r\\nunbelievably\\r\\nhelpful\\r\\nsuperb\\r\\nHD\\r\\nunbeatable\\r\\nexcellent\\r\\nattentive\\r\\n5 out of 5\\r\\ndeal\\r\\neasy\\r\\nfancy\\r\\nyum!\\r\\naffordable\\r\\nlucky\\r\\ngreat deal\\r\\nsimply beautiful\\r\\nroyalty\\r\\nSuperior\\r\\ncomfortable\\r\\nmesmerizing\\r\\nconvenient\\r\\n5 star\\r\\nclassy\\r\\nrelaxing\\r\\nsophisticated\\r\\nromantic\\r\\ncannot express\\r\\nhappy\\r\\ninexpensive\\r\\nluxury\\r\\npriceless\\r\\nrecommend\\r\\nimmaculate\\r\\nclass\\r\\nbeautifully\\r\\nadorned\\r\\nreliable\\r\\nmagnificent...\\r\\nspectacular\\r\\nfinest\\r\\nbreathtaking\\r\\nluxury!\\r\\nmore than\\r\\npleased\\r\\nfriendly\\r\\ndissapointed!\\r\\nplace to stay\\r\\nbreath away\\r\\nhigh speed internet\\r\\nhigh quality\\r\\nafforded\\r\\neasy\\r\\nfantastic\\r\\nsuper clean\\r\\ndef\\r\\nhighly\\r\\nrecommended\\r\\nwow!\\r\\nmodern\\r\\ncozy\\r\\nsoftest\\r\\nfun\\r\\natmosphere\\r\\ncourteous\\r\\nhighly recommended!\\r\\ncleanest\\r\\nwell-furnished\\r\\nfour-diamond\\r\\naccommodating\\r\\nabsolutely\\r\\nfantastic!\\r\\nspacious\\r\\nno problem\\r\\npolite\\r\\ngreat experience\\r\\ntop notch\\r\\noutstanding\\r\\ngood quality\\r\\nimpressive\\r\\nprofessionals\\r\\ngrand\\r\\nreturn\\r\\nwell-maintained\\r\\npremium\\r\\nhigh-quality\\r\\nexperience!\\r\\nunparalleled\\r\\ntranquil\\r\\nbliss\\r\\nsecond-to-none\\r\\ndeluxe\\r\\nproud\\r\\nphenomenal\\r\\nmust\\r\\nclean\\r\\nfive out of five\\r\\nwish\\r\\ngenerous\\r\\nease\\r\\ncurtious\\r\\nhaven\\r\\n24/7\\r\\non demand\\r\\naward winning\\r\\nluxuary\\r\\nvery satisfied\\r\\nsoon\\r\\nnicer\\r\\nbright\\r\\nlit\\r\\nplus\\r\\nhappier\\r\\ncrim\\r\\nsafe\\r\\nexceptional!\\r\\nreasonable\\r\\nstay\\r\\npure\\r\\nallergy-free\\r\\nhigh-end\\r\\nremodeled\\r\\nredesigned\\r\\nstunned\\r\\nfriendliness\\r\\nrelaxing!!\\r\\nfast\\r\\nwireless\\r\\nperks\\r\\ndreamy\\r\\nloved\\r\\ncrisp\\r\\npromise\\r\\nback\\r\\nincredible\\r\\noppertunity\\r\\ngorgeous!\\r\\ncleanliness!\\r\\ndelight\\r\\nresist\\r\\nimpeccably\\r\\ngenuine\\r\\ndefinately\\r\\nmagnificent\\r\\nsaver\\r\\namazed\\r\\nbar....and\\r\\nfabulous!\\r\\nfabulous\\r\\npampering\\r\\nsuperb!\\r\\nsoft!\\r\\nfluffy\\r\\nfluffy!\\r\\ncomfortal\\r\\ngorgeous\\r\\ndelicious\\r\\ndelicious!\\r\\nbreathtakingly\\r\\ndivine\\r\\ndivine!\\r\\ncheapest\\r\\nfresh!\\r\\nfresh\\r\\nw/\\r\\ndissapointed\\r\\nUnacceptable!!!\\r\\nupset\\r\\nterrible\\r\\nnoisy\\r\\nmiserable\\r\\n$300!!!!!!\\r\\nfurious!\\r\\n\\r\\n\\r\\n'"
            ]
          },
          "metadata": {
            "tags": []
          },
          "execution_count": 8
        }
      ]
    },
    {
      "cell_type": "code",
      "metadata": {
        "id": "T1rzzAsifFeW",
        "colab_type": "code",
        "outputId": "ec88956f-65d3-4760-fb99-bdb16aa1b357",
        "colab": {
          "base_uri": "https://localhost:8080/",
          "height": 54
        }
      },
      "source": [
        "seed = uploaded[file_name].decode(\"utf-8\").split(\"\\r\\n\")\n",
        "seed = [[i for i in seed]]\n",
        "print(seed)"
      ],
      "execution_count": 9,
      "outputs": [
        {
          "output_type": "stream",
          "text": [
            "[['amazing', 'very', 'proficient', 'totally delicious', 'free', 'excellent!!', 'gold', 'definitely', 'satisfied', 'king', 'bigger', 'wonderful', 'thumbs up! ', 'best', 'impressed', 'understatement', 'perfect', 'ultimate', 'huge', 'elegant', '100 percent', 'high tech', 'professional', 'pamper', 'worth', 'regret', 'creepy', 'filthy', 'beauti', 'polished', 'Ting', 'great', 'luxurious', 'paradise', 'perfect!', 'shocked', 'was...', 'gold!', 'wont believe', 'when t', 'too', 'extremely', 'cam', 'miss', '10/10!', 'pleasantly', 'equipped', 'working', 'Thanksgiving', 'damn', 'praise', 'faint', 'unbelievably', 'helpful', 'superb', 'HD', 'unbeatable', 'excellent', 'attentive', '5 out of 5', 'deal', 'easy', 'fancy', 'yum!', 'affordable', 'lucky', 'great deal', 'simply beautiful', 'royalty', 'Superior', 'comfortable', 'mesmerizing', 'convenient', '5 star', 'classy', 'relaxing', 'sophisticated', 'romantic', 'cannot express', 'happy', 'inexpensive', 'luxury', 'priceless', 'recommend', 'immaculate', 'class', 'beautifully', 'adorned', 'reliable', 'magnificent...', 'spectacular', 'finest', 'breathtaking', 'luxury!', 'more than', 'pleased', 'friendly', 'dissapointed!', 'place to stay', 'breath away', 'high speed internet', 'high quality', 'afforded', 'easy', 'fantastic', 'super clean', 'def', 'highly', 'recommended', 'wow!', 'modern', 'cozy', 'softest', 'fun', 'atmosphere', 'courteous', 'highly recommended!', 'cleanest', 'well-furnished', 'four-diamond', 'accommodating', 'absolutely', 'fantastic!', 'spacious', 'no problem', 'polite', 'great experience', 'top notch', 'outstanding', 'good quality', 'impressive', 'professionals', 'grand', 'return', 'well-maintained', 'premium', 'high-quality', 'experience!', 'unparalleled', 'tranquil', 'bliss', 'second-to-none', 'deluxe', 'proud', 'phenomenal', 'must', 'clean', 'five out of five', 'wish', 'generous', 'ease', 'curtious', 'haven', '24/7', 'on demand', 'award winning', 'luxuary', 'very satisfied', 'soon', 'nicer', 'bright', 'lit', 'plus', 'happier', 'crim', 'safe', 'exceptional!', 'reasonable', 'stay', 'pure', 'allergy-free', 'high-end', 'remodeled', 'redesigned', 'stunned', 'friendliness', 'relaxing!!', 'fast', 'wireless', 'perks', 'dreamy', 'loved', 'crisp', 'promise', 'back', 'incredible', 'oppertunity', 'gorgeous!', 'cleanliness!', 'delight', 'resist', 'impeccably', 'genuine', 'definately', 'magnificent', 'saver', 'amazed', 'bar....and', 'fabulous!', 'fabulous', 'pampering', 'superb!', 'soft!', 'fluffy', 'fluffy!', 'comfortal', 'gorgeous', 'delicious', 'delicious!', 'breathtakingly', 'divine', 'divine!', 'cheapest', 'fresh!', 'fresh', 'w/', 'dissapointed', 'Unacceptable!!!', 'upset', 'terrible', 'noisy', 'miserable', '$300!!!!!!', 'furious!', '', '', '']]\n"
          ],
          "name": "stdout"
        }
      ]
    },
    {
      "cell_type": "code",
      "metadata": {
        "id": "-H5S8Ri4fFnR",
        "colab_type": "code",
        "colab": {
          "base_uri": "https://localhost:8080/",
          "height": 34
        },
        "outputId": "44c6c152-c696-4a07-cca2-371c90a6b6c6"
      },
      "source": [
        "model_for_spam_words = Word2Vec(seed,min_count=1)\n",
        "print(model_for_spam_words.vocabulary)"
      ],
      "execution_count": 10,
      "outputs": [
        {
          "output_type": "stream",
          "text": [
            "<gensim.models.word2vec.Word2VecVocab object at 0x7f35c4d41860>\n"
          ],
          "name": "stdout"
        }
      ]
    },
    {
      "cell_type": "code",
      "metadata": {
        "id": "VIkcq41FfFqQ",
        "colab_type": "code",
        "colab": {
          "base_uri": "https://localhost:8080/",
          "height": 442
        },
        "outputId": "71b72eef-e368-4693-c9ec-4a2f70d3817e"
      },
      "source": [
        "vector_for_each_spam_word = model_for_spam_words.wv['very'] #Here we can substitute any word from the seed dictionary to get the vector of that word\n",
        "print(vector_for_each_spam_word)"
      ],
      "execution_count": 29,
      "outputs": [
        {
          "output_type": "stream",
          "text": [
            "[ 3.2960677e-03  4.9510882e-03 -1.2741229e-03 -5.0864386e-04\n",
            "  5.2786939e-04  2.4986230e-03  2.8373490e-03 -3.5151953e-03\n",
            "  7.8697444e-04 -4.2258394e-03 -4.7054547e-03  3.3457086e-03\n",
            " -1.6713105e-03  4.5680655e-03  4.5767291e-03 -3.4918459e-03\n",
            " -6.8432954e-04  2.7666579e-03 -1.6832903e-03 -4.5230491e-03\n",
            " -1.5562186e-03  8.2457351e-04  3.1643072e-03 -2.4339402e-05\n",
            "  4.6431436e-04  3.4632892e-03 -1.7154107e-03 -3.7399721e-03\n",
            " -4.0575773e-03 -4.3489044e-03  7.7584636e-04  1.5912117e-03\n",
            " -1.8210717e-03 -6.2827312e-04 -3.4429592e-03  1.0782626e-03\n",
            "  3.5540632e-03  4.7340258e-03  2.0251698e-03 -4.5949896e-03\n",
            "  2.1797018e-03 -4.2409389e-03 -2.1578452e-04 -4.9580084e-03\n",
            "  1.1623495e-03 -2.6978331e-03 -4.4075944e-03 -2.3208114e-03\n",
            "  3.7935136e-03  4.7237501e-03 -1.4611728e-03  1.1508781e-03\n",
            "  2.0345272e-03  1.8605001e-03 -9.4833068e-04 -4.9513411e-03\n",
            "  8.9739094e-04 -4.5906049e-03 -1.7355818e-03 -2.1032088e-03\n",
            "  2.1369352e-04  4.5837802e-03 -4.7635557e-03 -2.4805169e-04\n",
            "  4.6526976e-03 -3.5212244e-05 -3.5078377e-03 -2.7241840e-03\n",
            " -1.5202442e-03 -4.2443941e-03 -3.6157265e-03 -7.0907241e-05\n",
            " -4.6347938e-03 -4.5818677e-03  2.5136250e-03  2.5145079e-03\n",
            "  3.9417366e-03  1.2971532e-03  2.9655406e-03  1.0887316e-04\n",
            " -6.7159795e-04  4.2871591e-03 -4.9578180e-03  3.7551757e-03\n",
            "  4.7615971e-03 -2.4538024e-04 -4.0890963e-04 -7.0945721e-04\n",
            "  2.4511479e-03  4.5626839e-03  1.2232651e-03 -6.1178626e-04\n",
            " -3.5451087e-03  3.4759240e-03 -1.8273209e-03  3.0332438e-03\n",
            "  4.4064308e-03 -4.9907034e-03  3.5425716e-03 -1.7032202e-03]\n"
          ],
          "name": "stdout"
        }
      ]
    },
    {
      "cell_type": "markdown",
      "metadata": {
        "id": "10vMdJBJipWW",
        "colab_type": "text"
      },
      "source": [
        "```\n",
        "```<b>Till Here each seed dictionary Element can be converted into vector</b>"
      ]
    },
    {
      "cell_type": "code",
      "metadata": {
        "id": "Cty6JBj9fFtj",
        "colab_type": "code",
        "outputId": "54d7e837-2d99-4549-f9e6-41c8786c5410",
        "colab": {
          "resources": {
            "http://localhost:8080/nbextensions/google.colab/files.js": {
              "data": "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",
              "ok": true,
              "headers": [
                [
                  "content-type",
                  "application/javascript"
                ]
              ],
              "status": 200,
              "status_text": ""
            }
          },
          "base_uri": "https://localhost:8080/",
          "height": 74
        }
      },
      "source": [
        "from google.colab import files\n",
        "uploaded = files.upload()\n"
      ],
      "execution_count": 12,
      "outputs": [
        {
          "output_type": "display_data",
          "data": {
            "text/html": [
              "\n",
              "     <input type=\"file\" id=\"files-b23067fe-1154-420a-a0df-0babe5107a19\" name=\"files[]\" multiple disabled />\n",
              "     <output id=\"result-b23067fe-1154-420a-a0df-0babe5107a19\">\n",
              "      Upload widget is only available when the cell has been executed in the\n",
              "      current browser session. Please rerun this cell to enable.\n",
              "      </output>\n",
              "      <script src=\"/nbextensions/google.colab/files.js\"></script> "
            ],
            "text/plain": [
              "<IPython.core.display.HTML object>"
            ]
          },
          "metadata": {
            "tags": []
          }
        },
        {
          "output_type": "stream",
          "text": [
            "Saving Labelleddataset.csv to Labelleddataset.csv\n"
          ],
          "name": "stdout"
        }
      ]
    },
    {
      "cell_type": "code",
      "metadata": {
        "id": "h0K0ba6Xdm2h",
        "colab_type": "code",
        "colab": {}
      },
      "source": [
        "import io\n",
        "df2 = pd.read_csv(io.BytesIO(uploaded['Labelleddataset.csv']))"
      ],
      "execution_count": 0,
      "outputs": []
    },
    {
      "cell_type": "code",
      "metadata": {
        "id": "_MmkAZSTnvS0",
        "colab_type": "code",
        "colab": {
          "base_uri": "https://localhost:8080/",
          "height": 34
        },
        "outputId": "86c9bcc5-745d-4338-cf3b-02ab98a125ef"
      },
      "source": [
        "count= 0\n",
        "reviews = [[i] for i in df2['text']]\n",
        "reviews.pop(0)\n",
        "print(\"Number of reviews=\",len(reviews))"
      ],
      "execution_count": 31,
      "outputs": [
        {
          "output_type": "stream",
          "text": [
            "Number of reviews= 1599\n"
          ],
          "name": "stdout"
        }
      ]
    },
    {
      "cell_type": "code",
      "metadata": {
        "id": "L3UVCoIls10D",
        "colab_type": "code",
        "outputId": "3c2768ba-4982-440e-a709-824e4726e67a",
        "colab": {
          "base_uri": "https://localhost:8080/",
          "height": 71
        }
      },
      "source": [
        "print(reviews[0][0])"
      ],
      "execution_count": 15,
      "outputs": [
        {
          "output_type": "stream",
          "text": [
            "Triple A rate with upgrade to view room was less than $200 which also included breakfast vouchers. Had a great view of river, lake, Wrigley Bldg. & Tribune Bldg. Most major restaurants, Shopping, Sightseeing attractions within walking distance. Large room with a very comfortable bed. \n",
            "\n"
          ],
          "name": "stdout"
        }
      ]
    },
    {
      "cell_type": "markdown",
      "metadata": {
        "id": "7GcFMMt2rYbX",
        "colab_type": "text"
      },
      "source": [
        "<b>Converting Reviews into vector </b>\n"
      ]
    },
    {
      "cell_type": "code",
      "metadata": {
        "id": "ddofpiYNr3rR",
        "colab_type": "code",
        "colab": {}
      },
      "source": [
        "text = re.sub(r'\\[[0-9]*\\]',' ',reviews[0][0])\n",
        "text = re.sub(r'\\s+',' ',text)\n",
        "text = text.lower()\n",
        "text = re.sub(r'\\d',' ',text)\n",
        "text = re.sub(r'\\s+',' ',text)"
      ],
      "execution_count": 0,
      "outputs": []
    },
    {
      "cell_type": "code",
      "metadata": {
        "id": "BCty-Ci_sn_A",
        "colab_type": "code",
        "outputId": "cead50fc-46a6-4f0b-daab-6e6db7e727a2",
        "colab": {
          "base_uri": "https://localhost:8080/",
          "height": 54
        }
      },
      "source": [
        "print(text)"
      ],
      "execution_count": 17,
      "outputs": [
        {
          "output_type": "stream",
          "text": [
            "triple a rate with upgrade to view room was less than $ which also included breakfast vouchers. had a great view of river, lake, wrigley bldg. & tribune bldg. most major restaurants, shopping, sightseeing attractions within walking distance. large room with a very comfortable bed. \n"
          ],
          "name": "stdout"
        }
      ]
    },
    {
      "cell_type": "code",
      "metadata": {
        "id": "_t_i0FrEsu1h",
        "colab_type": "code",
        "outputId": "5b7bbc5f-2fbb-4c15-ed95-d213337a0419",
        "colab": {
          "base_uri": "https://localhost:8080/",
          "height": 54
        }
      },
      "source": [
        "sentences = nltk.sent_tokenize(text)\n",
        "print(sentences)"
      ],
      "execution_count": 18,
      "outputs": [
        {
          "output_type": "stream",
          "text": [
            "['triple a rate with upgrade to view room was less than $ which also included breakfast vouchers.', 'had a great view of river, lake, wrigley bldg.', '& tribune bldg.', 'most major restaurants, shopping, sightseeing attractions within walking distance.', 'large room with a very comfortable bed.']\n"
          ],
          "name": "stdout"
        }
      ]
    },
    {
      "cell_type": "code",
      "metadata": {
        "id": "n-P2_AMIt7Y_",
        "colab_type": "code",
        "outputId": "5f28915c-5843-460e-a25a-f4670c6c2246",
        "colab": {
          "base_uri": "https://localhost:8080/",
          "height": 54
        }
      },
      "source": [
        "sentences = [nltk.word_tokenize(sentence) for sentence in sentences]\n",
        "print(sentences)"
      ],
      "execution_count": 19,
      "outputs": [
        {
          "output_type": "stream",
          "text": [
            "[['triple', 'a', 'rate', 'with', 'upgrade', 'to', 'view', 'room', 'was', 'less', 'than', '$', 'which', 'also', 'included', 'breakfast', 'vouchers', '.'], ['had', 'a', 'great', 'view', 'of', 'river', ',', 'lake', ',', 'wrigley', 'bldg', '.'], ['&', 'tribune', 'bldg', '.'], ['most', 'major', 'restaurants', ',', 'shopping', ',', 'sightseeing', 'attractions', 'within', 'walking', 'distance', '.'], ['large', 'room', 'with', 'a', 'very', 'comfortable', 'bed', '.']]\n"
          ],
          "name": "stdout"
        }
      ]
    },
    {
      "cell_type": "code",
      "metadata": {
        "id": "Twy6bnVCuByg",
        "colab_type": "code",
        "outputId": "51719e8a-4890-4b61-88db-bb187514433d",
        "colab": {
          "base_uri": "https://localhost:8080/",
          "height": 54
        }
      },
      "source": [
        "for i in range(len(sentences)): #Removing the stop words\n",
        "    sentences[i] = [word for word in sentences[i] if word not in stopwords.words('english')]\n",
        "\n",
        "print(sentences)"
      ],
      "execution_count": 20,
      "outputs": [
        {
          "output_type": "stream",
          "text": [
            "[['triple', 'rate', 'upgrade', 'view', 'room', 'less', '$', 'also', 'included', 'breakfast', 'vouchers', '.'], ['great', 'view', 'river', ',', 'lake', ',', 'wrigley', 'bldg', '.'], ['&', 'tribune', 'bldg', '.'], ['major', 'restaurants', ',', 'shopping', ',', 'sightseeing', 'attractions', 'within', 'walking', 'distance', '.'], ['large', 'room', 'comfortable', 'bed', '.']]\n"
          ],
          "name": "stdout"
        }
      ]
    },
    {
      "cell_type": "code",
      "metadata": {
        "id": "1CcWT70xuFlx",
        "colab_type": "code",
        "colab": {}
      },
      "source": [
        "model_for_reviews = Word2Vec(sentences,min_count=1)"
      ],
      "execution_count": 0,
      "outputs": []
    },
    {
      "cell_type": "code",
      "metadata": {
        "id": "ykXbUymtuaZ8",
        "colab_type": "code",
        "colab": {
          "base_uri": "https://localhost:8080/",
          "height": 34
        },
        "outputId": "9169c7a5-0484-49d6-9d49-a757d2609bb8"
      },
      "source": [
        "vector_for_each_review = model_for_reviews.wv['triple'] # here we can subsitute any of the letter present in the review and can find its vector\n",
        "# print(vector_for_each_review)\n",
        "dissim=distance.cosine(vector_for_each_review,vector_for_each_spam_word)\n",
        "print(1-dissim)"
      ],
      "execution_count": 42,
      "outputs": [
        {
          "output_type": "stream",
          "text": [
            "3.971180194639601e-05\n"
          ],
          "name": "stdout"
        }
      ]
    },
    {
      "cell_type": "markdown",
      "metadata": {
        "id": "UrqJEGpOwACH",
        "colab_type": "text"
      },
      "source": [
        "\n",
        "\n",
        "\n",
        "<b>This is the start of our Algorithm</b>\n",
        "\n"
      ]
    },
    {
      "cell_type": "markdown",
      "metadata": {
        "id": "TQf8-9gGwOGn",
        "colab_type": "text"
      },
      "source": [
        "![alt text](https://)![image.png](data:image/png;base64,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)"
      ]
    },
    {
      "cell_type": "code",
      "metadata": {
        "id": "bXThgzy6fQ4P",
        "colab_type": "code",
        "colab": {}
      },
      "source": [
        "dissim=distance.cosine(v_spam,v_review)"
      ],
      "execution_count": 0,
      "outputs": []
    },
    {
      "cell_type": "markdown",
      "metadata": {
        "id": "uQIwXU6V1ELQ",
        "colab_type": "text"
      },
      "source": [
        "<b>Initially doing for single Review</b>"
      ]
    },
    {
      "cell_type": "markdown",
      "metadata": {
        "id": "ASTTWNqYxR6k",
        "colab_type": "text"
      },
      "source": [
        "<b> Part 1 of the Self-Extensible dictionary algorithm</b>"
      ]
    },
    {
      "cell_type": "code",
      "metadata": {
        "id": "xwLS82FAwpuv",
        "colab_type": "code",
        "outputId": "48265b16-5931-4d97-eab9-cd064d956edb",
        "colab": {
          "base_uri": "https://localhost:8080/",
          "height": 34
        }
      },
      "source": [
        "# print(seed[0])\n",
        "# print(sentences)\n",
        "#modification we can include only those words whose similarity is greater than 0.4\n",
        "\n",
        "candidate_spam_dictionary = []\n",
        "for i in seed[0]:  #for Each word in seed spam dictionary\n",
        "  dissimilarity_weights = []\n",
        "  v_spam  = model_for_spam_words.wv[i]  #vector of Each seed spam word\n",
        "  for j in range(len(sentences)):  \n",
        "    # sentences[j]   #represents each sentence\n",
        "    for k in sentences[j]:  #for each word in the sentence\n",
        "      v_review = model_for_reviews.wv[k]  #converting each word of the sentence into vector\n",
        "      dissim=distance.cosine(v_spam,v_review) #calculating the dissimilarity\n",
        "      dissimilarity_weights.append([i,k,dissim])   #dissimilarity weights for each review word\n",
        "  # print(len(dissimilarity_weights))\n",
        "  s = sorted(dissimilarity_weights, key = lambda x: (x[2]))   #sorting the dissimilarity weights of the words from seed words for the entire review\n",
        "  \n",
        "  # for j in s:   #testing purpose\n",
        "  #   if(1-j[2]>=0.4):\n",
        "  #     print(1-j[2])\n",
        "\n",
        "\n",
        "  s_dash = []\n",
        "  for j in range(0,15): #Appending 5 most similar words to the s_dash\n",
        "    s_dash.append(s[j]) # s_dash and s will be three dimensional array [i,k,cosine_dissimilarity], append 5 most similar words to s_dash\n",
        "  # print(len(s_dash))\n",
        "\n",
        "  for j in range(0,15):  # for Each word in s_dash\n",
        "    if((s_dash[j][1] not in seed[0]) and (1-s_dash[j][2]>=0.4)): # if s_dash is already present in the dictionary or similarity < 0.4 discard it 1-s_dash becoz its dissimilarity\n",
        "      candidate_spam_dictionary.append(s_dash[j][1])\n",
        "\n",
        "print(\"Candidate Spam dictionary:\",candidate_spam_dictionary)  #[k] only\n",
        "\n"
      ],
      "execution_count": 65,
      "outputs": [
        {
          "output_type": "stream",
          "text": [
            "Candidate Spam dictionary: []\n"
          ],
          "name": "stdout"
        }
      ]
    },
    {
      "cell_type": "markdown",
      "metadata": {
        "id": "bEfdMRJwxhBF",
        "colab_type": "text"
      },
      "source": [
        "<b> Part 2 of Self-Extensible Dictionary </b>"
      ]
    },
    {
      "cell_type": "code",
      "metadata": {
        "id": "h_1wpYXvxuA7",
        "colab_type": "code",
        "colab": {}
      },
      "source": [
        "for i in candidate_spam_dictionary:  #for Each word in candidate spam dictionary\n",
        "  dissimilarity_weights = []\n",
        "  v_candidate_dictionary  = model_for_reviews.wv[i]  #vector of Each candidate spam word because the candidate spam words has been extracted from the reviews\n",
        "  for j in range(len(sentences)):  \n",
        "    # sentences[j]   represents each sentence\n",
        "    for k in sentences[j]:  #for each word in the sentence\n",
        "      v_review = model_for_reviews.wv[k]  #converting each word of the sentence into vector\n",
        "      dissim=distance.cosine(v_candidate_dictionary,v_review) #calculating the dissimilarity\n",
        "      dissimilarity_weights.append([i,k,dissim])   #dissimilarity weights for each review word\n",
        "  # print(len(dissimilarity_weights))\n",
        "  s = sorted(dissimilarity_weights, key = lambda x: (x[2]))   #sorting the dissimilarity weights of the words from seed words for the entire review\n",
        "  \n",
        "  # for j in s:   #testing purpose\n",
        "  #   if(1-j[2]>=0.4):\n",
        "  #     print(1-j[2])\n",
        "\n",
        "\n",
        "  s_double_dash = []\n",
        "  for j in range(0,15): #Appending 5 most similar words to the s_dash\n",
        "    s_double_dash.append(s[j][1]) # s_double_dash and s will be three dimensional array [k],storing only append 15 most similar words to s_dash\n",
        "\n",
        "  if (len(set(double_dash) & set(seed[0]))>=3):  #if there are 3 or more than 3 words in the seed dictionary then add the word of candidate spam dictionary to the seed spam dictionary\n",
        "    seed[0].append(i)\n",
        "\n",
        "\n",
        "\n"
      ],
      "execution_count": 0,
      "outputs": []
    },
    {
      "cell_type": "code",
      "metadata": {
        "id": "73usy1dx6Ebr",
        "colab_type": "code",
        "colab": {}
      },
      "source": [
        ""
      ],
      "execution_count": 0,
      "outputs": []
    }
  ]
}